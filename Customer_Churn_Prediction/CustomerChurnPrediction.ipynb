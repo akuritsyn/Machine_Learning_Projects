{
 "cells": [
  {
   "cell_type": "markdown",
   "metadata": {},
   "source": [
    "<h1><center>Customer Churn Prediction</center></h1>"
   ]
  },
  {
   "cell_type": "markdown",
   "metadata": {},
   "source": [
    "## 1. Introduction and problem statement"
   ]
  },
  {
   "cell_type": "markdown",
   "metadata": {},
   "source": [
    "The goal of the Customer Churn Prediction project is to find clients of a telecom company who are likely to churn. \n",
    "\n",
    "Banks, telephone service companies, Internet service providers, pay TV companies, insurance firms, alarm monitoring services and others often use customer churn analysis and customer churn rates as one of their key business metrics, because the cost of retaining an existing customer is far less than acquiring a new one. Companies from these sectors often have customer service branches, which job is to win back defecting clients, because long-term clients can bring much more profit to a company than newly recruited ones.\n",
    "\n",
    "In this project, we will make a prediction that a client will stop using a service during a pre-defined time period by solving a binary classification problem. We'll be using data from the 2009 competition described here:   http://www.kdd.org/kdd-cup/view/kdd-cup-2009/Intro. This is a real data set collected by the French telecom company Orange, where all the personal information about users has been deleted so that individual users can not be identified based on this data. The data set consists of 50,000 objects and comprises 190 numerical and 40 categorical variables. We'll use 40,000 objects as a training data set and remaining 10,000 as a validation data set. The data has significant imbalace, where less that 8% of users belong to the churn class.\n",
    "\n",
    "In practice, using these predictions one can determine clients who are likely to churn and take measures to keep them as well as to idenify and fix any existing problems. In particular, model developed here can be used as a baseline for defining priorities of the customer retention campaign in the framework of a chosen economic model. \n",
    "\n",
    "This project consists of several parts: \n",
    "1. Introduction and problem statement\n",
    "2. Performance metrics and success criteria\n",
    "3. Model development\n",
    "4. Model performance and economic impact\n",
    "5. Conclusions"
   ]
  },
  {
   "cell_type": "markdown",
   "metadata": {},
   "source": [
    "## 2. Performance metrics and success criteria"
   ]
  },
  {
   "cell_type": "markdown",
   "metadata": {},
   "source": [
    "The output of our model will predict probability of each object to belong to the \"churn\" class. Later, we can make a decision regarding the probability threshold, which separates the classes. Therefore, metrics for which threshold has to be specified in advance like accuracy, precision, recall, f1-score will not work well here. \n",
    "\n",
    "On the other hand, metrics which do not depend on the threshold like **ROC AUC**, **PR AUC** will work much better. As a general rule, the larger the values of these metrics, the closer the objects of the churn class will be to the top of the list sorted by probability, which is what we want.\n",
    "\n",
    "It is known that the value of the ROC AUC metric can be difficult to interpret if there is a large imbalance between classes (the value can be close to 1, while classifier can be doing a bad job). However, one does not have to interpret meaning of the metric when comparing algorithms. Therefore, ROC AUC metric can be used initially when searching for the best model. This metric is also used to evaluate results of a Kaggle competition: https://inclass.kaggle.com/c/telecom-clients-churn-prediction/.\n",
    "\n",
    "Finally, model performance can be evaluated based on a selected economic model, which allows for predicting potential revenue increase. Economic effect is one of the key outcomes, which interests the business.  "
   ]
  },
  {
   "cell_type": "markdown",
   "metadata": {},
   "source": [
    "## 3. Model development"
   ]
  },
  {
   "cell_type": "markdown",
   "metadata": {
    "collapsed": true
   },
   "source": [
    "### 3.1 Data preparation"
   ]
  },
  {
   "cell_type": "markdown",
   "metadata": {},
   "source": [
    "To prepare the data we'll use the following approach below:\n",
    "1. Split the data into numerical and categorical features\n",
    "2. Handle missing data\n",
    "3. Use encoding to transform categorical features"
   ]
  },
  {
   "cell_type": "markdown",
   "metadata": {},
   "source": [
    "#### 3.1.1 Split data into numerical and categorical features:"
   ]
  },
  {
   "cell_type": "code",
   "execution_count": 1,
   "metadata": {
    "collapsed": true
   },
   "outputs": [],
   "source": [
    "import pandas as pd\n",
    "# import training and test datasets\n",
    "train = pd.read_csv('kaggle/orange_small_churn_train_data.csv', index_col='ID')\n",
    "X_train = train.drop(['labels'], axis=1)\n",
    "y = train['labels']\n",
    "X_test = pd.read_csv('kaggle/orange_small_churn_test_data.csv', index_col='ID')\n",
    "# separate numerical features\n",
    "X_dig_train = X_train.iloc[:, :190]\n",
    "X_dig_test = X_test.iloc[:, :190]\n",
    "# combine categorical features of training and test datasets\n",
    "X = pd.concat([X_train, X_test], ignore_index=True)\n",
    "X_cat = X.iloc[:, 190:]"
   ]
  },
  {
   "cell_type": "markdown",
   "metadata": {},
   "source": [
    "#### 3.1.2 Handle missing data in numerical features"
   ]
  },
  {
   "cell_type": "markdown",
   "metadata": {},
   "source": [
    "Several methods of filling missing data in numerical features has been attempted during this project. The best results has been obtained, when missing data was replaced with the feature mean, where mean was calculated only using training data. Features containing no data were deleted automatically."
   ]
  },
  {
   "cell_type": "code",
   "execution_count": 2,
   "metadata": {
    "collapsed": true
   },
   "outputs": [],
   "source": [
    "from sklearn.preprocessing import Imputer\n",
    "imputer = Imputer(strategy='mean')\n",
    "X_dig_train_imp = imputer.fit_transform(X_dig_train)\n",
    "X_dig_test_imp = imputer.transform(X_dig_test)"
   ]
  },
  {
   "cell_type": "markdown",
   "metadata": {},
   "source": [
    "#### 3.1.3 Handle missing data in categorical features"
   ]
  },
  {
   "cell_type": "markdown",
   "metadata": {},
   "source": [
    "Several approaches to handling missing data in cathegorical features have been attempted as well and the best results were obtained when missing data was described by a separate category. "
   ]
  },
  {
   "cell_type": "code",
   "execution_count": 3,
   "metadata": {
    "collapsed": true
   },
   "outputs": [],
   "source": [
    "X_cat.fillna('NA', inplace=True)"
   ]
  },
  {
   "cell_type": "markdown",
   "metadata": {},
   "source": [
    "#### 3.1.4 Encoding of categorical features"
   ]
  },
  {
   "cell_type": "markdown",
   "metadata": {},
   "source": [
    "We have tried several approaches to encoding of the categorical features: \n",
    "    - simple encoding using positive integers \n",
    "    - encoding using positive integers followed by the dummy-encoding \n",
    "    - encoding using positive integers followed by dummy-encoding and combining rare categories into one\n",
    "    \n",
    "The last method performed the best. Combining of the rare categories is done in such a way that we end up with less than 12 categories: 11 original, including NA and 1 category combining all the others. Categories are common for the training and test data sets to avoid cases where we learin on one set of categories, but test on the other."
   ]
  },
  {
   "cell_type": "code",
   "execution_count": 4,
   "metadata": {
    "collapsed": true
   },
   "outputs": [],
   "source": [
    "from sklearn.preprocessing import LabelEncoder\n",
    "enc = LabelEncoder()\n",
    "# encoding using positive integers and combining categories\n",
    "for col in X_cat.columns:\n",
    "    value_counts = X_cat[col].value_counts()\n",
    "    X_cat.loc[value_counts[X_cat[col]].values < value_counts.values[min(10, len(value_counts)-1)], col] = 'rare'    \n",
    "    X_cat[col] = enc.fit_transform(X_cat[col])\n",
    "# dummy-encoding\n",
    "dummies = pd.get_dummies(X_cat.astype(str), drop_first=True)\n",
    "dummies_train = dummies.iloc[:train.shape[0], :]\n",
    "dummies_test = dummies.iloc[train.shape[0]:, :]"
   ]
  },
  {
   "cell_type": "markdown",
   "metadata": {},
   "source": [
    "#### 3.1.5 Recombine transformed numerical and categorical features"
   ]
  },
  {
   "cell_type": "markdown",
   "metadata": {},
   "source": [
    "Let's recombine numerical and transformed categorical features for further use in the model."
   ]
  },
  {
   "cell_type": "code",
   "execution_count": 5,
   "metadata": {
    "collapsed": true
   },
   "outputs": [],
   "source": [
    "from numpy import hstack\n",
    "X_train = hstack((X_dig_train_imp, dummies_train))\n",
    "X_test = hstack((X_dig_test_imp, dummies_test))"
   ]
  },
  {
   "cell_type": "markdown",
   "metadata": {},
   "source": [
    "### 3.2 Classifier selection"
   ]
  },
  {
   "cell_type": "markdown",
   "metadata": {},
   "source": [
    "After we defined model metrics and transforemd features, we can now choose classifier and its parameters. In this project we have evaluated the following classifiers:\n",
    "    - Linear classifier (RidgeClassifier from scikit-learn),\n",
    "    - Random forest classifier (RandomForestClassifier from scikit-learn),\n",
    "    - Gradient boosting \\#1 (GradientBoostingClassifier from scikit-learn),\n",
    "    - Gradient boosting \\#2 (XGBClassifier из py-xgboost).\n",
    "    \n",
    "The last Gradient boosting classifier from xgboost had the best performance based on accuracy and speed - it runs several times faster than the one from scikit-learn and performs better.\n",
    "\n",
    "XGBClassifier with modified max tree depth **XGBClassifier(max_depth=5)** performed a bit better than the one with default parameters:"
   ]
  },
  {
   "cell_type": "code",
   "execution_count": 6,
   "metadata": {},
   "outputs": [
    {
     "name": "stderr",
     "output_type": "stream",
     "text": [
      "C:\\Users\\AK\\Anaconda2\\lib\\site-packages\\sklearn\\cross_validation.py:41: DeprecationWarning: This module was deprecated in version 0.18 in favor of the model_selection module into which all the refactored classes and functions are moved. Also note that the interface of the new CV iterators are different from that of this module. This module will be removed in 0.20.\n",
      "  \"This module will be removed in 0.20.\", DeprecationWarning)\n"
     ]
    }
   ],
   "source": [
    "from xgboost import XGBClassifier\n",
    "clf = XGBClassifier(max_depth=5)"
   ]
  },
  {
   "cell_type": "markdown",
   "metadata": {},
   "source": [
    "## 4.  Model performance and economic impact"
   ]
  },
  {
   "cell_type": "markdown",
   "metadata": {},
   "source": [
    "Model performance has been assessed using ROC AOC metric in several ways:\n",
    "1. in Kaggle competition\n",
    "2. using cross-validation on training data set\n",
    "3. using validation data set"
   ]
  },
  {
   "cell_type": "markdown",
   "metadata": {},
   "source": [
    "### 4.1 Kaggle competition"
   ]
  },
  {
   "cell_type": "markdown",
   "metadata": {},
   "source": [
    "Let's train the classifier and sumbit the results to Kaggle competition:"
   ]
  },
  {
   "cell_type": "code",
   "execution_count": 7,
   "metadata": {},
   "outputs": [
    {
     "name": "stdout",
     "output_type": "stream",
     "text": [
      "Wall time: 17.4 s\n"
     ]
    }
   ],
   "source": [
    "%%time\n",
    "clf.fit(X_train, y)\n",
    "proba = clf.predict_proba(X_test)\n",
    "prob_df = pd.DataFrame(proba[:, 1], columns=['result'])\n",
    "prob_df.index.name = 'Id'\n",
    "prob_df.to_csv('subm_20171001_XGB_md=5.csv')"
   ]
  },
  {
   "cell_type": "code",
   "execution_count": 8,
   "metadata": {
    "collapsed": true
   },
   "outputs": [],
   "source": [
    "from IPython.display import Image"
   ]
  },
  {
   "cell_type": "code",
   "execution_count": 9,
   "metadata": {},
   "outputs": [
    {
     "data": {
      "image/png": "iVBORw0KGgoAAAANSUhEUgAAA7cAAAHdCAIAAABJ9hlBAAAAAXNSR0IArs4c6QAAAARnQU1BAACx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\nAElFTkSuQmCC\n",
      "text/plain": [
       "<IPython.core.display.Image object>"
      ]
     },
     "execution_count": 9,
     "metadata": {},
     "output_type": "execute_result"
    }
   ],
   "source": [
    "Image(\"Kaggle_Result.png\")"
   ]
  },
  {
   "cell_type": "markdown",
   "metadata": {},
   "source": [
    "As one can see our model would allow us to be in top 5 of the Kaggle competition (where the score is determined based on ROC AOC metric), however competition was already closed at the time of submission. "
   ]
  },
  {
   "cell_type": "markdown",
   "metadata": {},
   "source": [
    "### 4.2 Cross-validation on the training data set"
   ]
  },
  {
   "cell_type": "markdown",
   "metadata": {},
   "source": [
    "Let's estimate model performance using cross-validation on the training data set: "
   ]
  },
  {
   "cell_type": "code",
   "execution_count": 10,
   "metadata": {
    "collapsed": true
   },
   "outputs": [],
   "source": [
    "from sklearn.model_selection import StratifiedKFold, cross_val_score"
   ]
  },
  {
   "cell_type": "code",
   "execution_count": 11,
   "metadata": {},
   "outputs": [
    {
     "name": "stdout",
     "output_type": "stream",
     "text": [
      "ROC AUC metric: 0.7379\n",
      "PR AUC metric: 0.2183\n"
     ]
    }
   ],
   "source": [
    "skfold = StratifiedKFold(n_splits=5, random_state=42)\n",
    "cvs_roc = cross_val_score(clf, X_train, y, cv=skfold, scoring='roc_auc')\n",
    "cvs_pr = cross_val_score(clf, X_train, y, cv=skfold, scoring='average_precision')\n",
    "print('ROC AUC metric: {:.4f}'.format(cvs_roc.mean()))\n",
    "print('PR AUC metric: {:.4f}'.format(cvs_pr.mean()))"
   ]
  },
  {
   "cell_type": "markdown",
   "metadata": {},
   "source": [
    "### 4.3 Validation data set"
   ]
  },
  {
   "cell_type": "markdown",
   "metadata": {
    "slideshow": {
     "slide_type": "slide"
    }
   },
   "source": [
    "Let's set aside a validation data set, which has the same ratio of the classes as the original one (use stratify command), and estimate model performance using ROC AUC и PR AUC metrics. "
   ]
  },
  {
   "cell_type": "code",
   "execution_count": 12,
   "metadata": {
    "collapsed": true
   },
   "outputs": [],
   "source": [
    "from sklearn.model_selection import train_test_split\n",
    "from sklearn.metrics import roc_auc_score, average_precision_score"
   ]
  },
  {
   "cell_type": "code",
   "execution_count": 13,
   "metadata": {
    "slideshow": {
     "slide_type": "slide"
    }
   },
   "outputs": [
    {
     "name": "stdout",
     "output_type": "stream",
     "text": [
      "ROC AUC metric: 0.7487\n",
      "PR AUC metric: 0.2226\n"
     ]
    }
   ],
   "source": [
    "X_train_part, X_valid, y_train_part, y_valid = train_test_split(X_train, y, stratify=y, test_size=0.15, random_state=42)\n",
    "clf.fit(X_train_part, y_train_part)\n",
    "valid_proba = clf.predict_proba(X_valid)[:, 1]\n",
    "print('ROC AUC metric: {:.4f}'.format(roc_auc_score(y_valid, valid_proba)))\n",
    "print('PR AUC metric: {:.4f}'.format(average_precision_score(y_valid, valid_proba)))"
   ]
  },
  {
   "cell_type": "markdown",
   "metadata": {},
   "source": [
    "### 4.4 Discussion"
   ]
  },
  {
   "cell_type": "markdown",
   "metadata": {},
   "source": [
    "All estimates give ROC AUC score of ~0.74 and PR AUC around 0.22. It's good that results are consistent, but does it mean that this is a good result? "
   ]
  },
  {
   "cell_type": "markdown",
   "metadata": {},
   "source": [
    "First of all, based on the Kaggle competition results, our model did well compared to the other people, since it got us to the top-5 of the competition. Secondly, we can estimate what values of the metrics ROC AUC and PR AUC will be predicted by an algorithm which is classifying the objects randomly: "
   ]
  },
  {
   "cell_type": "code",
   "execution_count": 14,
   "metadata": {},
   "outputs": [
    {
     "name": "stdout",
     "output_type": "stream",
     "text": [
      "ROC AUC metric value on random classifier: 0.4954\n",
      "PR AUC metric value on random classifier: 0.0762\n"
     ]
    }
   ],
   "source": [
    "import numpy as np\n",
    "print('ROC AUC metric value on random classifier: {:.4f}'.format(roc_auc_score(np.random.permutation(y.values), np.linspace(0, 1, len(y)))))\n",
    "print('PR AUC metric value on random classifier: {:.4f}'.format(average_precision_score(np.random.permutation(y.values), np.linspace(0, 1, len(y)))))"
   ]
  },
  {
   "cell_type": "markdown",
   "metadata": {},
   "source": [
    "As one could have predicted, ROC AUC metric for a random classifier is close to 0.5, аnd PR AUC metric is close to the ratio of classes. Performance of our classifier based on ROC AUC и PR AUC is significantly better than random classifer."
   ]
  },
  {
   "cell_type": "markdown",
   "metadata": {
    "collapsed": true
   },
   "source": [
    "### 4.5 Economic impact"
   ]
  },
  {
   "cell_type": "markdown",
   "metadata": {
    "collapsed": true
   },
   "source": [
    "In order to estimate financial impact of this predictive model, we need to define economic model. As an example, let's consider economic model described by the following parameters:"
   ]
  },
  {
   "cell_type": "markdown",
   "metadata": {
    "collapsed": true
   },
   "source": [
    "$ARPU$  - average revenue per user per month,\n",
    "\n",
    "$ARC$ - average retention cost per user in one retention campaign,\n",
    "\n",
    "$P_{acc}$ - probability of accepting an offer,\n",
    "\n",
    "$P$ - share of users participating in the retention campaign,\n",
    "\n",
    "$N$ - total number of users,\n",
    "\n",
    "$T$ - average duration in months, during which a user, which was likely to churn, is not going to churn after a successfully carried out campaign,\n",
    "\n",
    "$PR$ - model accuracy for estimation of share $P$, meaning how many people enrolled into retention campaign are likely to churn indeed (can be estimated, for example, using test data).\n",
    "\n",
    "One can estimate profit of the retention campaign based on the following assumptions:\n",
    "\n",
    "If retention campaign does not take place, then all users from the risk pool will leave immediately and we will not collect any further revenew from them.\n",
    "\n",
    "If retention campaign is carried out, then $N \\cdot P$ people will participate in it. The retention expenses are equal to $N \\cdot P \\cdot ARC$. At the same time only $N \\cdot P\\cdot PR$ people are indeed likely to leave. Therefore, income from users who were likely to leave, but accepted our offer is equal to $N \\cdot P\\cdot PR \\cdot P_{acc} \\cdot ARPU \\cdot T$ (assumed that all users who declined our offer leave immediately and no longer bring any revenue).\n",
    "\n",
    "Therefore, total revenue can be calculated as the difference between profit and loss:\n",
    "\n",
    "$$Value = N \\cdot P\\cdot(PR \\cdot P_{acc} \\cdot ARPU \\cdot T - ARC)$$"
   ]
  },
  {
   "cell_type": "markdown",
   "metadata": {},
   "source": [
    "Proposed economical model in conjunction with the classification model described earlier offers a numerical solution to the problem of finding an optimal number of users participating in the retention campaign. \n",
    "\n",
    "Let's define certain model parameters:\n",
    "\n",
    "$ARPU = \\$3000$\n",
    "\n",
    "$ARC = \\$100$\n",
    "\n",
    "$P_{acc} = 0.2$ \n",
    "\n",
    "$N = 10000$ users\n",
    " \n",
    "$T = 3$ month\n",
    "\n",
    "In order to find the optimal value of $P$, we'll examine the relation between the $PR$ and $P$ on the test data set.\n"
   ]
  },
  {
   "cell_type": "code",
   "execution_count": 15,
   "metadata": {
    "scrolled": false
   },
   "outputs": [
    {
     "data": {
      "image/png": "iVBORw0KGgoAAAANSUhEUgAAA6cAAAIpCAYAAABe0U5sAAAABHNCSVQICAgIfAhkiAAAAAlwSFlz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\nkiRJktS4/w/nFvUW+ZMczwAAAABJRU5ErkJggg==\n",
      "text/plain": [
       "<matplotlib.figure.Figure at 0x4322b70>"
      ]
     },
     "metadata": {},
     "output_type": "display_data"
    },
    {
     "name": "stdout",
     "output_type": "stream",
     "text": [
      "('Optimal share of participating users: P = ', 0.4)\n",
      "('Maximum profit (\\\\$):', 604000)\n"
     ]
    }
   ],
   "source": [
    "from sklearn.metrics import precision_recall_curve\n",
    "# define paramters\n",
    "ARPU, ARC, P_acc, N, T = 3000, 100, 0.2, 10000, 3\n",
    "# calculate precision as a function of threshold\n",
    "precision, recall, thresholds = precision_recall_curve(y_valid, valid_proba)\n",
    "# for every threshold, calculate share of objects which belong to \"churn\" class \n",
    "P = np.array([len(valid_proba[valid_proba>=i])/float(len(valid_proba)) for i in thresholds])\n",
    "# calculate profit\n",
    "Profit = N*P*(precision[:-1]*P_acc*ARPU*T - ARC)\n",
    "\n",
    "# make a plot of Profit vs P (share of users participating in the retention campaign)\n",
    "from matplotlib import pyplot as plt\n",
    "import matplotlib\n",
    "%matplotlib inline\n",
    "matplotlib.rc('font', family='Arial', size=16)\n",
    "plt.figure(figsize=(15,8))\n",
    "plt.plot(P, Profit)\n",
    "plt.title(' Profit as a function of the share of users participating in the retention campaign', y=1.1)\n",
    "plt.xlabel('Share of users participating in the retention campaign')\n",
    "plt.ylabel('Profit (\\$)')\n",
    "plt.show()\n",
    "\n",
    "# P at maximum profit:\n",
    "print('Optimal share of participating users: P = ', round(P[Profit==max(Profit)][0],2))\n",
    "# maximum profit\n",
    "print('Maximum profit (\\$):', int(max(Profit)))"
   ]
  },
  {
   "cell_type": "markdown",
   "metadata": {},
   "source": [
    "**Conclusions:** in the framework of developed economic model, the classifier allows to successfully find optimal share of users, which should participate in the retention campaign in order to maximize company's profit."
   ]
  },
  {
   "cell_type": "markdown",
   "metadata": {},
   "source": [
    "## 5. Conclusions"
   ]
  },
  {
   "cell_type": "markdown",
   "metadata": {},
   "source": [
    "In this project we have built a model predicting customer churn using anonymous data containing numerical and catogorical features. The model allowed to get to top-5 on the Kaggle competition leaderboard. We have also evaluated economic effect of the predictive model based on a simple economic model of a customer retention campaign."
   ]
  },
 ],
 "metadata": {
  "anaconda-cloud": {},
  "kernelspec": {
   "display_name": "Python 2",
   "language": "python",
   "name": "python2"
  },
  "language_info": {
   "codemirror_mode": {
    "name": "ipython",
    "version": 2
   },
   "file_extension": ".py",
   "mimetype": "text/x-python",
   "name": "python",
   "nbconvert_exporter": "python",
   "pygments_lexer": "ipython2",
   "version": "2.7.13"
  }
 },
 "nbformat": 4,
 "nbformat_minor": 2
}
