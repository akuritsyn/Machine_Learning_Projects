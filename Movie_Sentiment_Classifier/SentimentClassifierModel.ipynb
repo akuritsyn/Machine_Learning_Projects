{
 "cells": [
  {
   "cell_type": "code",
   "execution_count": 26,
   "metadata": {
    "collapsed": true
   },
   "outputs": [],
   "source": [
    "# Import libraries (install if necessary)\n",
    "import numpy as np\n",
    "import pandas as pd\n",
    "from sklearn.feature_extraction.text import TfidfTransformer, CountVectorizer\n",
    "from sklearn.svm import LinearSVC\n",
    "from sklearn.utils import shuffle\n",
    "from sklearn.pipeline import Pipeline\n",
    "\n",
    "import pickle\n",
    "\n",
    "#import nltk\n",
    "#nltk.download()\n",
    "\n",
    "from nltk.corpus import movie_reviews\n",
    "from sklearn.externals import joblib"
   ]
  },
  {
   "cell_type": "code",
   "execution_count": 27,
   "metadata": {
    "collapsed": true,
    "scrolled": true
   },
   "outputs": [],
   "source": [
    "# Import negative and positive movie reviews for training classifier\n",
    "negids = movie_reviews.fileids('neg')\n",
    "posids = movie_reviews.fileids('pos')\n",
    "negfeats = [\" \".join(movie_reviews.words(fileids=[f])) for f in negids]\n",
    "posfeats = [\" \".join(movie_reviews.words(fileids=[f])) for f in posids]\n",
    "\n",
    "texts = negfeats[:] + posfeats[:]\n",
    "labels = [0] * len(negfeats[:]) + [1] * len(posfeats[:])"
   ]
  },
  {
   "cell_type": "code",
   "execution_count": 28,
   "metadata": {
    "collapsed": true
   },
   "outputs": [],
   "source": [
    "# Define classifier function\n",
    "\n",
    "# CountVectorizer converts a collection of text documents to a matrix of token counts\n",
    "\n",
    "# tf-idf means term-frequency times inverse document-frequency. The goal of using tf-idf instead of the raw frequencies of \n",
    "# occurrence of a token in a given document is to scale down the impact of tokens that occur very frequently in a given corpus\n",
    "# and that are hence empirically less informative than features that occur in a small fraction of the training corpus.\n",
    "\n",
    "# LinerSVC = Linear Support Vector Classification\n",
    "\n",
    "def my_classifier(text, label):\n",
    "    def text_classifier(vectorizer, transformer, classifier):\n",
    "        return Pipeline(\n",
    "                [(\"vectorizer\", vectorizer),\n",
    "                (\"transformer\", transformer),\n",
    "                (\"classifier\", classifier)]\n",
    "            )\n",
    "\n",
    "    Lin_SVC = text_classifier(vectorizer=CountVectorizer(min_df=1, ngram_range=(1, 3), max_df=0.85, stop_words=None), \n",
    "                    transformer=TfidfTransformer(), \n",
    "                    classifier=LinearSVC(max_iter=400, loss='squared_hinge', C= 1.1, tol=1e-05, random_state=1))\n",
    "                              \n",
    "    Lin_SVC.fit(text, label)\n",
    "\n",
    "    return Lin_SVC    "
   ]
  },
  {
   "cell_type": "code",
   "execution_count": 29,
   "metadata": {},
   "outputs": [
    {
     "name": "stdout",
     "output_type": "stream",
     "text": [
      "Pipeline(memory=None,\n",
      "     steps=[('vectorizer', CountVectorizer(analyzer=u'word', binary=False, decode_error=u'strict',\n",
      "        dtype=<type 'numpy.int64'>, encoding=u'utf-8', input=u'content',\n",
      "        lowercase=True, max_df=0.85, max_features=None, min_df=1,\n",
      "        ngram_range=(1, 3), preprocessor=None, stop_words=None,\n",
      "   ..._hinge', max_iter=400,\n",
      "     multi_class='ovr', penalty='l2', random_state=1, tol=1e-05, verbose=0))])\n"
     ]
    }
   ],
   "source": [
    "# Train classifier\n",
    "cls = my_classifier(texts, labels)\n",
    "print(cls)"
   ]
  },
  {
   "cell_type": "code",
   "execution_count": 30,
   "metadata": {
    "collapsed": true
   },
   "outputs": [],
   "source": [
    "# Save trained classifier using pickle\n",
    "with open('classifier.pkl', 'wb') as fl:\n",
    "    pickle.dump(cls, fl)"
   ]
  },
  {
   "cell_type": "code",
   "execution_count": 31,
   "metadata": {
    "collapsed": true
   },
   "outputs": [],
   "source": [
    "cls = joblib.load(\"classifier.pkl\")"
   ]
  },
  {
   "cell_type": "code",
   "execution_count": 32,
   "metadata": {},
   "outputs": [
    {
     "name": "stdout",
     "output_type": "stream",
     "text": [
      "Pipeline(memory=None,\n",
      "     steps=[('vectorizer', CountVectorizer(analyzer=u'word', binary=False, decode_error=u'strict',\n",
      "        dtype=<type 'numpy.int64'>, encoding=u'utf-8', input=u'content',\n",
      "        lowercase=True, max_df=0.85, max_features=None, min_df=1,\n",
      "        ngram_range=(1, 3), preprocessor=None, stop_words=None,\n",
      "   ..._hinge', max_iter=400,\n",
      "     multi_class='ovr', penalty='l2', random_state=1, tol=1e-05, verbose=0))])\n"
     ]
    }
   ],
   "source": [
    "print(cls)"
   ]
  },
  {
   "cell_type": "code",
   "execution_count": 64,
   "metadata": {
    "collapsed": true
   },
   "outputs": [],
   "source": [
    "# As an exmaple let's consider pipeline performance on the reviews to \"Silicon Valley\" sitcom from IMDB\n",
    "rvws = []\n",
    "# 10 out of 10\n",
    "rvws.append(\"I really don't like other HBO Comedies like Girls and Looking. I heard about this show and I'm a programmer myself so i thought i will give it a chance and I'm not disappointed. The pilot was great and SMART, the lines were great and performances were all terrific. All the characters were kind of cool and i'm looking forward to see them again. The characters are believable and may exist in the real world. I can't wait for next episodes. i recommend it to all of you. Watch it and i don't think you'll be disappointed.\")\n",
    "# 9 out of 10\n",
    "rvws.append(\"I have been a member of IMDb for many many years now and am a big movie and TV enthusiast. That said, until now, not once have I felt the need to type up a review. Silicon Valley if possibly the funniest show I have seen, ever. The writing is thoughtful, with perfect comedic timing. The only word to describe the characters is awesome. They all work so well together that the comedy flows effortlessly. I am surprised to see that this show is coming from HBO. I would expect a show like this from Netflix but not HBO. But I must commend them because they hit this one out the park. I look forward to what I hope will be a long lasting series with many more seasons to come. You can see from my profile that I have been a member here for many years and have not ever written a single review, so you can be assured that what I say is true. If you haven't seen Silicon Valley you are missing out. Go check it out!\")\n",
    "# 1 out of 10\n",
    "rvws.append(\"If there was a word to describe this show it would be dreadful. I was recommended to see this show by friends as it was described by them as hilarious and addictive. However after seeing the first season I could definitely say I would never ever watch a second season. The jokes are repetitive and obvious, the receipt used to create the show as been used over and over by likewise comedy series (not saying nothing about the quality of other shows) and the plot gets really evident reaching the end. Besides, in the beginning of the show the jokes changed between clever jokes and dirty jokes which is really good because of the balance between the target audience. Despite that, when you reach the end of the show you can only get puns and dirty jokes. For example one of the episodes revolves around a racist joke that starts as a funny way to improve the show but ends getting repetitive and irrelevant which makes that episode one of the most boring episodes ever. Watch one episode, if you like watch the rest with your hopes down if you don't like, don't waste your time on this show.\")\n",
    "# 1 out of 10\n",
    "rvws.append(\"I stopped halfway through Season 3 Episode 3 (got through first two seasons always hoping it would get better) and here's my assessment. Worst TV show I have watched in 5 years, at least. Acting is painful to watch and and the writing is amateurish, at best. If a high school student passed in these scripts I'd pat them on the back for trying. When they attempt to be funny, it's heartbreakingly bad, like watching a stand up comedian bomb. Really bad. I do not live and work in Silicon Valley, so maybe I'm missing all the REALLY inside humor, but I do work in IT and this show is an embarrassment. Do not waste another 30 minutes of your life. How this show has an 8.5 rating is an enigma.\")"
   ]
  },
  {
   "cell_type": "code",
   "execution_count": 65,
   "metadata": {
    "collapsed": true
   },
   "outputs": [],
   "source": [
    "predictions=cls.predict(rvws)"
   ]
  },
  {
   "cell_type": "code",
   "execution_count": 66,
   "metadata": {},
   "outputs": [
    {
     "name": "stdout",
     "output_type": "stream",
     "text": [
      "[ 1 ] I really don't like other HBO Comedies like Girls and Looking. I heard about this show and I'm a programmer myself so i thought i will give it a chance and I'm not disappointed. The pilot was great and SMART, the lines were great and performances were all terrific. All the characters were kind of cool and i'm looking forward to see them again. The characters are believable and may exist in the real world. I can't wait for next episodes. i recommend it to all of you. Watch it and i don't think you'll be disappointed.\n",
      " \n",
      "[ 1 ] I have been a member of IMDb for many many years now and am a big movie and TV enthusiast. That said, until now, not once have I felt the need to type up a review. Silicon Valley if possibly the funniest show I have seen, ever. The writing is thoughtful, with perfect comedic timing. The only word to describe the characters is awesome. They all work so well together that the comedy flows effortlessly. I am surprised to see that this show is coming from HBO. I would expect a show like this from Netflix but not HBO. But I must commend them because they hit this one out the park. I look forward to what I hope will be a long lasting series with many more seasons to come. You can see from my profile that I have been a member here for many years and have not ever written a single review, so you can be assured that what I say is true. If you haven't seen Silicon Valley you are missing out. Go check it out!\n",
      " \n",
      "[ 0 ] If there was a word to describe this show it would be dreadful. I was recommended to see this show by friends as it was described by them as hilarious and addictive. However after seeing the first season I could definitely say I would never ever watch a second season. The jokes are repetitive and obvious, the receipt used to create the show as been used over and over by likewise comedy series (not saying nothing about the quality of other shows) and the plot gets really evident reaching the end. Besides, in the beginning of the show the jokes changed between clever jokes and dirty jokes which is really good because of the balance between the target audience. Despite that, when you reach the end of the show you can only get puns and dirty jokes. For example one of the episodes revolves around a racist joke that starts as a funny way to improve the show but ends getting repetitive and irrelevant which makes that episode one of the most boring episodes ever. Watch one episode, if you like watch the rest with your hopes down if you don't like, don't waste your time on this show.\n",
      " \n",
      "[ 0 ] I stopped halfway through Season 3 Episode 3 (got through first two seasons always hoping it would get better) and here's my assessment. Worst TV show I have watched in 5 years, at least. Acting is painful to watch and and the writing is amateurish, at best. If a high school student passed in these scripts I'd pat them on the back for trying. When they attempt to be funny, it's heartbreakingly bad, like watching a stand up comedian bomb. Really bad. I do not live and work in Silicon Valley, so maybe I'm missing all the REALLY inside humor, but I do work in IT and this show is an embarrassment. Do not waste another 30 minutes of your life. How this show has an 8.5 rating is an enigma.\n",
      " \n"
     ]
    }
   ],
   "source": [
    "for i in range(np.shape(rvws)[0]):\n",
    "    print '[',predictions[i],']',rvws[i]\n",
    "    print ' ' "
   ]
  }
 ],
 "metadata": {
  "kernelspec": {
   "display_name": "Python 2",
   "language": "python",
   "name": "python2"
  },
  "language_info": {
   "codemirror_mode": {
    "name": "ipython",
    "version": 2
   },
   "file_extension": ".py",
   "mimetype": "text/x-python",
   "name": "python",
   "nbconvert_exporter": "python",
   "pygments_lexer": "ipython2",
   "version": "2.7.13"
  }
 },
 "nbformat": 4,
 "nbformat_minor": 2
}
